{
 "cells": [
  {
   "cell_type": "markdown",
   "id": "6d55bb8e-3b96-4839-989c-3364d4225970",
   "metadata": {},
   "source": [
    "# Esse é o meu título\n",
    "Essa linha cria uma variável `a`."
   ]
  },
  {
   "cell_type": "code",
   "execution_count": 7,
   "id": "f19b8407-355f-45ef-a571-372439ebb593",
   "metadata": {},
   "outputs": [
    {
     "data": {
      "text/plain": [
       "2"
      ]
     },
     "execution_count": 7,
     "metadata": {},
     "output_type": "execute_result"
    }
   ],
   "source": [
    "a = 2\n",
    "a"
   ]
  },
  {
   "cell_type": "markdown",
   "id": "ebbc2c56-9dea-4d91-8e3d-07fdc9aa0d43",
   "metadata": {},
   "source": [
    "Essa linha tem o valor da variável `a` em dobro"
   ]
  },
  {
   "cell_type": "code",
   "execution_count": 6,
   "id": "51628921-8277-4f36-8c4e-b59f9cb7c592",
   "metadata": {},
   "outputs": [
    {
     "data": {
      "text/plain": [
       "4"
      ]
     },
     "execution_count": 6,
     "metadata": {},
     "output_type": "execute_result"
    }
   ],
   "source": [
    "b = a * 2\n",
    "b"
   ]
  },
  {
   "cell_type": "markdown",
   "id": "40056b5c-1524-49f5-9107-257db0dc617a",
   "metadata": {},
   "source": [
    "Essa linha mostra o valor de a + b"
   ]
  },
  {
   "cell_type": "code",
   "execution_count": 9,
   "id": "5484acde-9359-49f0-bd80-fe41dd52ad50",
   "metadata": {},
   "outputs": [
    {
     "data": {
      "text/plain": [
       "6"
      ]
     },
     "execution_count": 9,
     "metadata": {},
     "output_type": "execute_result"
    }
   ],
   "source": [
    "a + b"
   ]
  },
  {
   "cell_type": "code",
   "execution_count": null,
   "id": "a00b183b-0b24-4a0a-a7d5-3293149aadc4",
   "metadata": {},
   "outputs": [],
   "source": []
  }
 ],
 "metadata": {
  "kernelspec": {
   "display_name": "Python 3 (ipykernel)",
   "language": "python",
   "name": "python3"
  },
  "language_info": {
   "codemirror_mode": {
    "name": "ipython",
    "version": 3
   },
   "file_extension": ".py",
   "mimetype": "text/x-python",
   "name": "python",
   "nbconvert_exporter": "python",
   "pygments_lexer": "ipython3",
   "version": "3.11.0"
  }
 },
 "nbformat": 4,
 "nbformat_minor": 5
}
